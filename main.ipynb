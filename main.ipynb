{
 "cells": [
  {
   "cell_type": "code",
   "execution_count": 1,
   "metadata": {},
   "outputs": [
    {
     "name": "stdout",
     "output_type": "stream",
     "text": [
      "{'symbol': 'XRP/USDT', 'timestamp': 1696167421605, 'datetime': '2023-10-01T13:37:01.605Z', 'high': 0.52283, 'low': 0.5136, 'bid': 0.51949, 'bidVolume': 385.0, 'ask': 0.5195, 'askVolume': 1319.468042, 'vwap': 0.5176813941593962, 'open': 0.51688, 'close': 0.5195, 'last': 0.5195, 'previousClose': None, 'change': 0.00262, 'percentage': 0.5068874787184646, 'average': 0.51819, 'baseVolume': 20490743.92032, 'quoteVolume': 10607676.88003443, 'info': {'instType': 'SPOT', 'instId': 'XRP-USDT', 'last': '0.5195', 'lastSz': '2412.254059', 'askPx': '0.5195', 'askSz': '1319.468042', 'bidPx': '0.51949', 'bidSz': '385', 'open24h': '0.51688', 'high24h': '0.52283', 'low24h': '0.5136', 'volCcy24h': '10607676.88003442991', 'vol24h': '20490743.92032', 'ts': '1696167421605', 'sodUtc0': '0.51497', 'sodUtc8': '0.51665'}}\n"
     ]
    }
   ],
   "source": [
    "import ccxt as cx\n",
    "import pandas as pd \n",
    "\n",
    "exchange = cx.okx()  # Replace with the exchange you want to connect to\n",
    "ticker = exchange.fetch_ticker('XRP/USDT')\n",
    "print(ticker)\n"
   ]
  },
  {
   "cell_type": "code",
   "execution_count": 2,
   "metadata": {},
   "outputs": [
    {
     "name": "stdout",
     "output_type": "stream",
     "text": [
      "    cars  passings\n",
      "0    BWS         3\n",
      "1  Volvo         7\n",
      "2   Ford         2\n"
     ]
    }
   ],
   "source": [
    "mydataset = {\n",
    "    'cars': [\"BWS\", 'Volvo', 'Ford'],\n",
    "    'passings': [3, 7, 2]\n",
    "}\n",
    "\n",
    "myvar = pd.DataFrame(mydataset)\n",
    "print(myvar)"
   ]
  },
  {
   "cell_type": "code",
   "execution_count": 5,
   "metadata": {},
   "outputs": [
    {
     "name": "stdout",
     "output_type": "stream",
     "text": [
      "day1    420\n",
      "day2    380\n",
      "day3    390\n",
      "dtype: int64\n",
      "day1    420\n",
      "day2    380\n",
      "dtype: int64\n",
      "2.0.3\n"
     ]
    }
   ],
   "source": [
    "import pandas as pd\n",
    "\n",
    "calories = {\"day1\": 420, \"day2\": 380, \"day3\": 390}\n",
    "\n",
    "myvar = pd.Series(calories)\n",
    "myvar2 = pd.Series(calories, index= ['day1', 'day2'])\n",
    "\n",
    "print(myvar)\n",
    "print(myvar2)"
   ]
  },
  {
   "cell_type": "code",
   "execution_count": 11,
   "metadata": {},
   "outputs": [
    {
     "name": "stdout",
     "output_type": "stream",
     "text": [
      "day1    420\n",
      "day2    380\n",
      "day3    390\n",
      "dtype: int64\n"
     ]
    }
   ],
   "source": [
    "import pandas as pd\n",
    "\n",
    "calories = {\"day1\": 420, \"day2\": 380, \"day3\": 390}\n",
    "\n",
    "myvar = pd.Series(calories)\n",
    "\n",
    "print(myvar)"
   ]
  },
  {
   "cell_type": "code",
   "execution_count": 27,
   "metadata": {},
   "outputs": [
    {
     "name": "stdout",
     "output_type": "stream",
     "text": [
      "   calories  duration\n",
      "0       420        50\n",
      "1       380        40\n",
      "2       390        45\n",
      "-----------------------\n",
      "calories    390\n",
      "duration     45\n",
      "Name: 2, dtype: int64\n",
      "-----------------------\n",
      "   calories  duration\n",
      "0       420        50\n",
      "1       380        40\n"
     ]
    }
   ],
   "source": [
    "import pandas as pd\n",
    "\n",
    "data = {\n",
    "  \"calories\": [420, 380, 390],\n",
    "  \"duration\": [50, 40, 45]\n",
    "}\n",
    "\n",
    "#load data into a DataFrame object:\n",
    "df = pd.DataFrame(data)\n",
    "\n",
    "print(df) \n",
    "\n",
    "print('-----------------------')\n",
    "print(df.loc[2])\n",
    "print('-----------------------')\n",
    "print(df.loc[[0, 1]])"
   ]
  },
  {
   "cell_type": "code",
   "execution_count": null,
   "metadata": {},
   "outputs": [],
   "source": [
    "import pandas as pd\n",
    "pd.options.display.max_rows = 9999\n",
    "df = pd.read_csv('https://www.w3schools.com/python/pandas/data.csv.txt')\n",
    "\n",
    "#print(df.to_string()) \n",
    "print(df) "
   ]
  },
  {
   "cell_type": "code",
   "execution_count": null,
   "metadata": {},
   "outputs": [],
   "source": [
    "import pandas as pd\n",
    "\n",
    "df = pd.read_json('https://www.w3schools.com/python/pandas/data.js')\n",
    "\n",
    "print(df.to_string()) "
   ]
  }
 ],
 "metadata": {
  "kernelspec": {
   "display_name": "basic_algo",
   "language": "python",
   "name": "python3"
  },
  "language_info": {
   "codemirror_mode": {
    "name": "ipython",
    "version": 3
   },
   "file_extension": ".py",
   "mimetype": "text/x-python",
   "name": "python",
   "nbconvert_exporter": "python",
   "pygments_lexer": "ipython3",
   "version": "3.11.5"
  },
  "orig_nbformat": 4
 },
 "nbformat": 4,
 "nbformat_minor": 2
}
