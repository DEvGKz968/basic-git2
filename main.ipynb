{
 "cells": [
  {
   "cell_type": "code",
   "execution_count": 2,
   "metadata": {},
   "outputs": [
    {
     "name": "stdout",
     "output_type": "stream",
     "text": [
      "{'symbol': 'XRP/USDT', 'timestamp': 1695910083012, 'datetime': '2023-09-28T14:08:03.012Z', 'high': 0.50526, 'low': 0.49524, 'bid': 0.50147, 'bidVolume': 1903.673242, 'ask': 0.50149, 'askVolume': 950.0, 'vwap': 0.5001801858774668, 'open': 0.50445, 'close': 0.50152, 'last': 0.50152, 'previousClose': None, 'change': -0.00293, 'percentage': -0.5808306075924273, 'average': 0.502985, 'baseVolume': 42877088.31421, 'quoteVolume': 21446270.002886117, 'info': {'instType': 'SPOT', 'instId': 'XRP-USDT', 'last': '0.50152', 'lastSz': '500', 'askPx': '0.50149', 'askSz': '950', 'bidPx': '0.50147', 'bidSz': '1903.673242', 'open24h': '0.50445', 'high24h': '0.50526', 'low24h': '0.49524', 'volCcy24h': '21446270.00288611818', 'vol24h': '42877088.31421', 'ts': '1695910083012', 'sodUtc0': '0.49933', 'sodUtc8': '0.50158'}}\n"
     ]
    }
   ],
   "source": [
    "import ccxt as cx\n",
    "import pandas as pd \n",
    "\n",
    "exchange = cx.okx()  # Replace with the exchange you want to connect to\n",
    "ticker = exchange.fetch_ticker('XRP/USDT')\n",
    "print(ticker)\n"
   ]
  },
  {
   "cell_type": "code",
   "execution_count": null,
   "metadata": {},
   "outputs": [
    {
     "name": "stdout",
     "output_type": "stream",
     "text": [
      "    cars  passings\n",
      "0    BWS         3\n",
      "1  Volvo         7\n",
      "2   Ford         2\n"
     ]
    }
   ],
   "source": [
    "mydataset = {\n",
    "    'cars': [\"BWS\", 'Volvo', 'Ford'],\n",
    "    'passings': [3, 7, 2]\n",
    "}\n",
    "\n",
    "myvar = pd.DataFrame(mydataset)\n",
    "print(myvar)"
   ]
  },
  {
   "cell_type": "code",
   "execution_count": null,
   "metadata": {},
   "outputs": [
    {
     "name": "stdout",
     "output_type": "stream",
     "text": [
      "day1    420\n",
      "day2    380\n",
      "day3    390\n",
      "dtype: int64\n",
      "day1    420\n",
      "day2    380\n",
      "dtype: int64\n"
     ]
    }
   ],
   "source": [
    "import pandas as pd\n",
    "\n",
    "calories = {\"day1\": 420, \"day2\": 380, \"day3\": 390}\n",
    "\n",
    "myvar = pd.Series(calories)\n",
    "myvar2 = pd.Series(calories, index= ['day1', 'day2'])\n",
    "\n",
    "print(myvar)\n",
    "print(myvar2)"
   ]
  },
  {
   "cell_type": "code",
   "execution_count": null,
   "metadata": {},
   "outputs": [
    {
     "name": "stdout",
     "output_type": "stream",
     "text": [
      "   calories  duration\n",
      "0       420        50\n",
      "1       380        40\n",
      "2       390        45\n",
      "-----------------------\n",
      "calories    420\n",
      "duration     50\n",
      "Name: 0, dtype: int64\n",
      "-----------------------\n",
      "   calories  duration\n",
      "0       420        50\n",
      "1       380        40\n"
     ]
    }
   ],
   "source": [
    "import pandas as pd\n",
    "\n",
    "data = {\n",
    "  \"calories\": [420, 380, 390],\n",
    "  \"duration\": [50, 40, 45]\n",
    "}\n",
    "\n",
    "#load data into a DataFrame object:\n",
    "df = pd.DataFrame(data)\n",
    "print(df)\n",
    "print('-----------------------')\n",
    "print(df.loc[0])\n",
    "print('-----------------------')\n",
    "print(df.loc[[0, 1]])"
   ]
  }
 ],
 "metadata": {
  "kernelspec": {
   "display_name": "basic_algo",
   "language": "python",
   "name": "python3"
  },
  "language_info": {
   "codemirror_mode": {
    "name": "ipython",
    "version": 3
   },
   "file_extension": ".py",
   "mimetype": "text/x-python",
   "name": "python",
   "nbconvert_exporter": "python",
   "pygments_lexer": "ipython3",
   "version": "3.11.5"
  },
  "orig_nbformat": 4
 },
 "nbformat": 4,
 "nbformat_minor": 2
}
