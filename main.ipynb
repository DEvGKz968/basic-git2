{
 "cells": [
  {
   "cell_type": "code",
   "execution_count": 51,
   "metadata": {},
   "outputs": [
    {
     "ename": "AttributeError",
     "evalue": "'dict' object has no attribute 'loc'",
     "output_type": "error",
     "traceback": [
      "\u001b[0;31m---------------------------------------------------------------------------\u001b[0m",
      "\u001b[0;31mAttributeError\u001b[0m                            Traceback (most recent call last)",
      "\u001b[1;32m/home/dev-gkz98/ba_algo/main.ipynb Cell 1\u001b[0m line \u001b[0;36m6\n\u001b[1;32m      <a href='vscode-notebook-cell:/home/dev-gkz98/ba_algo/main.ipynb#W0sZmlsZQ%3D%3D?line=3'>4</a>\u001b[0m exchange \u001b[39m=\u001b[39m cx\u001b[39m.\u001b[39mokx()  \u001b[39m# Replace with the exchange you want to connect to\u001b[39;00m\n\u001b[1;32m      <a href='vscode-notebook-cell:/home/dev-gkz98/ba_algo/main.ipynb#W0sZmlsZQ%3D%3D?line=4'>5</a>\u001b[0m ticker \u001b[39m=\u001b[39m exchange\u001b[39m.\u001b[39mfetch_ticker(\u001b[39m'\u001b[39m\u001b[39mXRP/USDT\u001b[39m\u001b[39m'\u001b[39m)\n\u001b[0;32m----> <a href='vscode-notebook-cell:/home/dev-gkz98/ba_algo/main.ipynb#W0sZmlsZQ%3D%3D?line=5'>6</a>\u001b[0m df \u001b[39m=\u001b[39m pd\u001b[39m.\u001b[39mDataFrame(ticker\u001b[39m.\u001b[39;49mloc[\u001b[39m0\u001b[39m])\n\u001b[1;32m      <a href='vscode-notebook-cell:/home/dev-gkz98/ba_algo/main.ipynb#W0sZmlsZQ%3D%3D?line=6'>7</a>\u001b[0m \u001b[39mprint\u001b[39m(df)\n",
      "\u001b[0;31mAttributeError\u001b[0m: 'dict' object has no attribute 'loc'"
     ]
    }
   ],
   "source": [
    "import ccxt as cx\n",
    "import pandas as pd \n",
    "\n",
    "exchange = cx.okx()  # Replace with the exchange you want to connect to\n",
    "ticker = exchange.fetch_ticker('XRP/USDT')\n",
    "df = pd.DataFrame(ticker.loc[0])\n",
    "print(df)\n"
   ]
  },
  {
   "cell_type": "code",
   "execution_count": 26,
   "metadata": {},
   "outputs": [
    {
     "name": "stdout",
     "output_type": "stream",
     "text": [
      "    cars  passings\n",
      "0    BWS         3\n",
      "1  Volvo         7\n",
      "2   Ford         2\n"
     ]
    }
   ],
   "source": [
    "mydataset = {\n",
    "    'cars': [\"BWS\", 'Volvo', 'Ford'],\n",
    "    'passings': [3, 7, 2]\n",
    "}\n",
    "\n",
    "myvar = pd.DataFrame(mydataset)\n",
    "print(myvar)"
   ]
  },
  {
   "cell_type": "code",
   "execution_count": 40,
   "metadata": {},
   "outputs": [
    {
     "name": "stdout",
     "output_type": "stream",
     "text": [
      "day1    420\n",
      "day2    380\n",
      "day3    390\n",
      "dtype: int64\n",
      "day1    420\n",
      "day2    380\n",
      "dtype: int64\n"
     ]
    }
   ],
   "source": [
    "import pandas as pd\n",
    "\n",
    "calories = {\"day1\": 420, \"day2\": 380, \"day3\": 390}\n",
    "\n",
    "myvar = pd.Series(calories)\n",
    "myvar2 = pd.Series(calories, index= ['day1', 'day2'])\n",
    "\n",
    "print(myvar)\n",
    "print(myvar2)"
   ]
  },
  {
   "cell_type": "code",
   "execution_count": 53,
   "metadata": {},
   "outputs": [
    {
     "name": "stdout",
     "output_type": "stream",
     "text": [
      "   calories  duration\n",
      "0       420        50\n",
      "1       380        40\n",
      "2       390        45\n",
      "-----------------------\n",
      "calories    420\n",
      "duration     50\n",
      "Name: 0, dtype: int64\n",
      "-----------------------\n",
      "   calories  duration\n",
      "0       420        50\n",
      "1       380        40\n"
     ]
    }
   ],
   "source": [
    "import pandas as pd\n",
    "\n",
    "data = {\n",
    "  \"calories\": [420, 380, 390],\n",
    "  \"duration\": [50, 40, 45]\n",
    "}\n",
    "\n",
    "#load data into a DataFrame object:\n",
    "df = pd.DataFrame(data)\n",
    "print(df)\n",
    "print('-----------------------')\n",
    "print(df.loc[0])\n",
    "print('-----------------------')\n",
    "print(df.loc[[0, 1]])"
   ]
  }
 ],
 "metadata": {
  "kernelspec": {
   "display_name": "basic_algo",
   "language": "python",
   "name": "python3"
  },
  "language_info": {
   "codemirror_mode": {
    "name": "ipython",
    "version": 3
   },
   "file_extension": ".py",
   "mimetype": "text/x-python",
   "name": "python",
   "nbconvert_exporter": "python",
   "pygments_lexer": "ipython3",
   "version": "3.11.5"
  },
  "orig_nbformat": 4
 },
 "nbformat": 4,
 "nbformat_minor": 2
}
